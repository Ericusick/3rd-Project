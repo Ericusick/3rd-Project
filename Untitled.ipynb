{
 "cells": [
  {
   "cell_type": "markdown",
   "metadata": {},
   "source": [
    "## Introduction, Business Case"
   ]
  },
  {
   "cell_type": "markdown",
   "metadata": {},
   "source": [
    "The SyriaTel, a telecommunications company has enlisted the service of a data scientist for help. SyriaTel wants to know when customer are going to stop doing business with them. It is in their interest to be able to retain customers to continue to make profits."
   ]
  },
  {
   "cell_type": "markdown",
   "metadata": {},
   "source": [
    "## Opening Customer Churn Dataset"
   ]
  },
  {
   "cell_type": "code",
   "execution_count": 1,
   "metadata": {},
   "outputs": [],
   "source": [
    "#Importing necessary libraries\n",
    "import pandas as pd\n",
    "import numpy as np\n",
    "import matplotlib.pyplot as plt\n",
    "import seaborn as sns\n",
    "sns.set_style(\"darkgrid\")"
   ]
  },
  {
   "cell_type": "code",
   "execution_count": 2,
   "metadata": {},
   "outputs": [],
   "source": [
    "df = pd.read_csv('customer_churn.csv')"
   ]
  },
  {
   "cell_type": "code",
   "execution_count": 3,
   "metadata": {
    "scrolled": false
   },
   "outputs": [
    {
     "data": {
      "text/html": [
       "<div>\n",
       "<style scoped>\n",
       "    .dataframe tbody tr th:only-of-type {\n",
       "        vertical-align: middle;\n",
       "    }\n",
       "\n",
       "    .dataframe tbody tr th {\n",
       "        vertical-align: top;\n",
       "    }\n",
       "\n",
       "    .dataframe thead th {\n",
       "        text-align: right;\n",
       "    }\n",
       "</style>\n",
       "<table border=\"1\" class=\"dataframe\">\n",
       "  <thead>\n",
       "    <tr style=\"text-align: right;\">\n",
       "      <th></th>\n",
       "      <th>state</th>\n",
       "      <th>account length</th>\n",
       "      <th>area code</th>\n",
       "      <th>phone number</th>\n",
       "      <th>international plan</th>\n",
       "      <th>voice mail plan</th>\n",
       "      <th>number vmail messages</th>\n",
       "      <th>total day minutes</th>\n",
       "      <th>total day calls</th>\n",
       "      <th>total day charge</th>\n",
       "      <th>...</th>\n",
       "      <th>total eve calls</th>\n",
       "      <th>total eve charge</th>\n",
       "      <th>total night minutes</th>\n",
       "      <th>total night calls</th>\n",
       "      <th>total night charge</th>\n",
       "      <th>total intl minutes</th>\n",
       "      <th>total intl calls</th>\n",
       "      <th>total intl charge</th>\n",
       "      <th>customer service calls</th>\n",
       "      <th>churn</th>\n",
       "    </tr>\n",
       "  </thead>\n",
       "  <tbody>\n",
       "    <tr>\n",
       "      <th>0</th>\n",
       "      <td>KS</td>\n",
       "      <td>128</td>\n",
       "      <td>415</td>\n",
       "      <td>382-4657</td>\n",
       "      <td>no</td>\n",
       "      <td>yes</td>\n",
       "      <td>25</td>\n",
       "      <td>265.1</td>\n",
       "      <td>110</td>\n",
       "      <td>45.07</td>\n",
       "      <td>...</td>\n",
       "      <td>99</td>\n",
       "      <td>16.78</td>\n",
       "      <td>244.7</td>\n",
       "      <td>91</td>\n",
       "      <td>11.01</td>\n",
       "      <td>10.0</td>\n",
       "      <td>3</td>\n",
       "      <td>2.70</td>\n",
       "      <td>1</td>\n",
       "      <td>False</td>\n",
       "    </tr>\n",
       "    <tr>\n",
       "      <th>1</th>\n",
       "      <td>OH</td>\n",
       "      <td>107</td>\n",
       "      <td>415</td>\n",
       "      <td>371-7191</td>\n",
       "      <td>no</td>\n",
       "      <td>yes</td>\n",
       "      <td>26</td>\n",
       "      <td>161.6</td>\n",
       "      <td>123</td>\n",
       "      <td>27.47</td>\n",
       "      <td>...</td>\n",
       "      <td>103</td>\n",
       "      <td>16.62</td>\n",
       "      <td>254.4</td>\n",
       "      <td>103</td>\n",
       "      <td>11.45</td>\n",
       "      <td>13.7</td>\n",
       "      <td>3</td>\n",
       "      <td>3.70</td>\n",
       "      <td>1</td>\n",
       "      <td>False</td>\n",
       "    </tr>\n",
       "    <tr>\n",
       "      <th>2</th>\n",
       "      <td>NJ</td>\n",
       "      <td>137</td>\n",
       "      <td>415</td>\n",
       "      <td>358-1921</td>\n",
       "      <td>no</td>\n",
       "      <td>no</td>\n",
       "      <td>0</td>\n",
       "      <td>243.4</td>\n",
       "      <td>114</td>\n",
       "      <td>41.38</td>\n",
       "      <td>...</td>\n",
       "      <td>110</td>\n",
       "      <td>10.30</td>\n",
       "      <td>162.6</td>\n",
       "      <td>104</td>\n",
       "      <td>7.32</td>\n",
       "      <td>12.2</td>\n",
       "      <td>5</td>\n",
       "      <td>3.29</td>\n",
       "      <td>0</td>\n",
       "      <td>False</td>\n",
       "    </tr>\n",
       "    <tr>\n",
       "      <th>3</th>\n",
       "      <td>OH</td>\n",
       "      <td>84</td>\n",
       "      <td>408</td>\n",
       "      <td>375-9999</td>\n",
       "      <td>yes</td>\n",
       "      <td>no</td>\n",
       "      <td>0</td>\n",
       "      <td>299.4</td>\n",
       "      <td>71</td>\n",
       "      <td>50.90</td>\n",
       "      <td>...</td>\n",
       "      <td>88</td>\n",
       "      <td>5.26</td>\n",
       "      <td>196.9</td>\n",
       "      <td>89</td>\n",
       "      <td>8.86</td>\n",
       "      <td>6.6</td>\n",
       "      <td>7</td>\n",
       "      <td>1.78</td>\n",
       "      <td>2</td>\n",
       "      <td>False</td>\n",
       "    </tr>\n",
       "    <tr>\n",
       "      <th>4</th>\n",
       "      <td>OK</td>\n",
       "      <td>75</td>\n",
       "      <td>415</td>\n",
       "      <td>330-6626</td>\n",
       "      <td>yes</td>\n",
       "      <td>no</td>\n",
       "      <td>0</td>\n",
       "      <td>166.7</td>\n",
       "      <td>113</td>\n",
       "      <td>28.34</td>\n",
       "      <td>...</td>\n",
       "      <td>122</td>\n",
       "      <td>12.61</td>\n",
       "      <td>186.9</td>\n",
       "      <td>121</td>\n",
       "      <td>8.41</td>\n",
       "      <td>10.1</td>\n",
       "      <td>3</td>\n",
       "      <td>2.73</td>\n",
       "      <td>3</td>\n",
       "      <td>False</td>\n",
       "    </tr>\n",
       "  </tbody>\n",
       "</table>\n",
       "<p>5 rows × 21 columns</p>\n",
       "</div>"
      ],
      "text/plain": [
       "  state  account length  area code phone number international plan  \\\n",
       "0    KS             128        415     382-4657                 no   \n",
       "1    OH             107        415     371-7191                 no   \n",
       "2    NJ             137        415     358-1921                 no   \n",
       "3    OH              84        408     375-9999                yes   \n",
       "4    OK              75        415     330-6626                yes   \n",
       "\n",
       "  voice mail plan  number vmail messages  total day minutes  total day calls  \\\n",
       "0             yes                     25              265.1              110   \n",
       "1             yes                     26              161.6              123   \n",
       "2              no                      0              243.4              114   \n",
       "3              no                      0              299.4               71   \n",
       "4              no                      0              166.7              113   \n",
       "\n",
       "   total day charge  ...  total eve calls  total eve charge  \\\n",
       "0             45.07  ...               99             16.78   \n",
       "1             27.47  ...              103             16.62   \n",
       "2             41.38  ...              110             10.30   \n",
       "3             50.90  ...               88              5.26   \n",
       "4             28.34  ...              122             12.61   \n",
       "\n",
       "   total night minutes  total night calls  total night charge  \\\n",
       "0                244.7                 91               11.01   \n",
       "1                254.4                103               11.45   \n",
       "2                162.6                104                7.32   \n",
       "3                196.9                 89                8.86   \n",
       "4                186.9                121                8.41   \n",
       "\n",
       "   total intl minutes  total intl calls  total intl charge  \\\n",
       "0                10.0                 3               2.70   \n",
       "1                13.7                 3               3.70   \n",
       "2                12.2                 5               3.29   \n",
       "3                 6.6                 7               1.78   \n",
       "4                10.1                 3               2.73   \n",
       "\n",
       "   customer service calls  churn  \n",
       "0                       1  False  \n",
       "1                       1  False  \n",
       "2                       0  False  \n",
       "3                       2  False  \n",
       "4                       3  False  \n",
       "\n",
       "[5 rows x 21 columns]"
      ]
     },
     "execution_count": 3,
     "metadata": {},
     "output_type": "execute_result"
    }
   ],
   "source": [
    "#Looking at the .head() to ensure everything loaded in\n",
    "df.head()"
   ]
  },
  {
   "cell_type": "code",
   "execution_count": 4,
   "metadata": {
    "scrolled": true
   },
   "outputs": [
    {
     "data": {
      "text/plain": [
       "(3333, 21)"
      ]
     },
     "execution_count": 4,
     "metadata": {},
     "output_type": "execute_result"
    }
   ],
   "source": [
    "df.shape"
   ]
  },
  {
   "cell_type": "markdown",
   "metadata": {},
   "source": [
    "## Preprocessing/EDAs"
   ]
  },
  {
   "cell_type": "code",
   "execution_count": 5,
   "metadata": {
    "scrolled": true
   },
   "outputs": [
    {
     "name": "stdout",
     "output_type": "stream",
     "text": [
      "<class 'pandas.core.frame.DataFrame'>\n",
      "RangeIndex: 3333 entries, 0 to 3332\n",
      "Data columns (total 21 columns):\n",
      " #   Column                  Non-Null Count  Dtype  \n",
      "---  ------                  --------------  -----  \n",
      " 0   state                   3333 non-null   object \n",
      " 1   account length          3333 non-null   int64  \n",
      " 2   area code               3333 non-null   int64  \n",
      " 3   phone number            3333 non-null   object \n",
      " 4   international plan      3333 non-null   object \n",
      " 5   voice mail plan         3333 non-null   object \n",
      " 6   number vmail messages   3333 non-null   int64  \n",
      " 7   total day minutes       3333 non-null   float64\n",
      " 8   total day calls         3333 non-null   int64  \n",
      " 9   total day charge        3333 non-null   float64\n",
      " 10  total eve minutes       3333 non-null   float64\n",
      " 11  total eve calls         3333 non-null   int64  \n",
      " 12  total eve charge        3333 non-null   float64\n",
      " 13  total night minutes     3333 non-null   float64\n",
      " 14  total night calls       3333 non-null   int64  \n",
      " 15  total night charge      3333 non-null   float64\n",
      " 16  total intl minutes      3333 non-null   float64\n",
      " 17  total intl calls        3333 non-null   int64  \n",
      " 18  total intl charge       3333 non-null   float64\n",
      " 19  customer service calls  3333 non-null   int64  \n",
      " 20  churn                   3333 non-null   bool   \n",
      "dtypes: bool(1), float64(8), int64(8), object(4)\n",
      "memory usage: 524.2+ KB\n"
     ]
    }
   ],
   "source": [
    "#Looking to see if there is any missing values and objects in the dataset\n",
    "df.info()"
   ]
  },
  {
   "cell_type": "markdown",
   "metadata": {},
   "source": [
    "Upon inspection of the .head() and .info() it would be ideal to drop the state, area code, and phone number because they are use more as identifier, it does not offer much in machine learning. We'll be using get_dummies on  international plan and voice mail plan to create a numeric boolean value. Also turning the churn from a bool dtype to an int"
   ]
  },
  {
   "cell_type": "code",
   "execution_count": 6,
   "metadata": {},
   "outputs": [],
   "source": [
    "df['churn'] = df['churn'].astype(int)"
   ]
  },
  {
   "cell_type": "code",
   "execution_count": 7,
   "metadata": {},
   "outputs": [],
   "source": [
    "pdf = df.drop(['state', 'phone number', 'area code'], axis=1)"
   ]
  },
  {
   "cell_type": "code",
   "execution_count": 8,
   "metadata": {},
   "outputs": [],
   "source": [
    "#OneHotEncode the categorical columns\n",
    "cats_ohe = pd.get_dummies(pdf)"
   ]
  },
  {
   "cell_type": "code",
   "execution_count": 9,
   "metadata": {
    "scrolled": true
   },
   "outputs": [
    {
     "data": {
      "text/html": [
       "<div>\n",
       "<style scoped>\n",
       "    .dataframe tbody tr th:only-of-type {\n",
       "        vertical-align: middle;\n",
       "    }\n",
       "\n",
       "    .dataframe tbody tr th {\n",
       "        vertical-align: top;\n",
       "    }\n",
       "\n",
       "    .dataframe thead th {\n",
       "        text-align: right;\n",
       "    }\n",
       "</style>\n",
       "<table border=\"1\" class=\"dataframe\">\n",
       "  <thead>\n",
       "    <tr style=\"text-align: right;\">\n",
       "      <th></th>\n",
       "      <th>account length</th>\n",
       "      <th>number vmail messages</th>\n",
       "      <th>total day minutes</th>\n",
       "      <th>total day calls</th>\n",
       "      <th>total day charge</th>\n",
       "      <th>total eve minutes</th>\n",
       "      <th>total eve calls</th>\n",
       "      <th>total eve charge</th>\n",
       "      <th>total night minutes</th>\n",
       "      <th>total night calls</th>\n",
       "      <th>total night charge</th>\n",
       "      <th>total intl minutes</th>\n",
       "      <th>total intl calls</th>\n",
       "      <th>total intl charge</th>\n",
       "      <th>customer service calls</th>\n",
       "      <th>churn</th>\n",
       "      <th>international plan_no</th>\n",
       "      <th>international plan_yes</th>\n",
       "      <th>voice mail plan_no</th>\n",
       "      <th>voice mail plan_yes</th>\n",
       "    </tr>\n",
       "  </thead>\n",
       "  <tbody>\n",
       "    <tr>\n",
       "      <th>0</th>\n",
       "      <td>128</td>\n",
       "      <td>25</td>\n",
       "      <td>265.1</td>\n",
       "      <td>110</td>\n",
       "      <td>45.07</td>\n",
       "      <td>197.4</td>\n",
       "      <td>99</td>\n",
       "      <td>16.78</td>\n",
       "      <td>244.7</td>\n",
       "      <td>91</td>\n",
       "      <td>11.01</td>\n",
       "      <td>10.0</td>\n",
       "      <td>3</td>\n",
       "      <td>2.70</td>\n",
       "      <td>1</td>\n",
       "      <td>0</td>\n",
       "      <td>1</td>\n",
       "      <td>0</td>\n",
       "      <td>0</td>\n",
       "      <td>1</td>\n",
       "    </tr>\n",
       "    <tr>\n",
       "      <th>1</th>\n",
       "      <td>107</td>\n",
       "      <td>26</td>\n",
       "      <td>161.6</td>\n",
       "      <td>123</td>\n",
       "      <td>27.47</td>\n",
       "      <td>195.5</td>\n",
       "      <td>103</td>\n",
       "      <td>16.62</td>\n",
       "      <td>254.4</td>\n",
       "      <td>103</td>\n",
       "      <td>11.45</td>\n",
       "      <td>13.7</td>\n",
       "      <td>3</td>\n",
       "      <td>3.70</td>\n",
       "      <td>1</td>\n",
       "      <td>0</td>\n",
       "      <td>1</td>\n",
       "      <td>0</td>\n",
       "      <td>0</td>\n",
       "      <td>1</td>\n",
       "    </tr>\n",
       "    <tr>\n",
       "      <th>2</th>\n",
       "      <td>137</td>\n",
       "      <td>0</td>\n",
       "      <td>243.4</td>\n",
       "      <td>114</td>\n",
       "      <td>41.38</td>\n",
       "      <td>121.2</td>\n",
       "      <td>110</td>\n",
       "      <td>10.30</td>\n",
       "      <td>162.6</td>\n",
       "      <td>104</td>\n",
       "      <td>7.32</td>\n",
       "      <td>12.2</td>\n",
       "      <td>5</td>\n",
       "      <td>3.29</td>\n",
       "      <td>0</td>\n",
       "      <td>0</td>\n",
       "      <td>1</td>\n",
       "      <td>0</td>\n",
       "      <td>1</td>\n",
       "      <td>0</td>\n",
       "    </tr>\n",
       "    <tr>\n",
       "      <th>3</th>\n",
       "      <td>84</td>\n",
       "      <td>0</td>\n",
       "      <td>299.4</td>\n",
       "      <td>71</td>\n",
       "      <td>50.90</td>\n",
       "      <td>61.9</td>\n",
       "      <td>88</td>\n",
       "      <td>5.26</td>\n",
       "      <td>196.9</td>\n",
       "      <td>89</td>\n",
       "      <td>8.86</td>\n",
       "      <td>6.6</td>\n",
       "      <td>7</td>\n",
       "      <td>1.78</td>\n",
       "      <td>2</td>\n",
       "      <td>0</td>\n",
       "      <td>0</td>\n",
       "      <td>1</td>\n",
       "      <td>1</td>\n",
       "      <td>0</td>\n",
       "    </tr>\n",
       "    <tr>\n",
       "      <th>4</th>\n",
       "      <td>75</td>\n",
       "      <td>0</td>\n",
       "      <td>166.7</td>\n",
       "      <td>113</td>\n",
       "      <td>28.34</td>\n",
       "      <td>148.3</td>\n",
       "      <td>122</td>\n",
       "      <td>12.61</td>\n",
       "      <td>186.9</td>\n",
       "      <td>121</td>\n",
       "      <td>8.41</td>\n",
       "      <td>10.1</td>\n",
       "      <td>3</td>\n",
       "      <td>2.73</td>\n",
       "      <td>3</td>\n",
       "      <td>0</td>\n",
       "      <td>0</td>\n",
       "      <td>1</td>\n",
       "      <td>1</td>\n",
       "      <td>0</td>\n",
       "    </tr>\n",
       "  </tbody>\n",
       "</table>\n",
       "</div>"
      ],
      "text/plain": [
       "   account length  number vmail messages  total day minutes  total day calls  \\\n",
       "0             128                     25              265.1              110   \n",
       "1             107                     26              161.6              123   \n",
       "2             137                      0              243.4              114   \n",
       "3              84                      0              299.4               71   \n",
       "4              75                      0              166.7              113   \n",
       "\n",
       "   total day charge  total eve minutes  total eve calls  total eve charge  \\\n",
       "0             45.07              197.4               99             16.78   \n",
       "1             27.47              195.5              103             16.62   \n",
       "2             41.38              121.2              110             10.30   \n",
       "3             50.90               61.9               88              5.26   \n",
       "4             28.34              148.3              122             12.61   \n",
       "\n",
       "   total night minutes  total night calls  total night charge  \\\n",
       "0                244.7                 91               11.01   \n",
       "1                254.4                103               11.45   \n",
       "2                162.6                104                7.32   \n",
       "3                196.9                 89                8.86   \n",
       "4                186.9                121                8.41   \n",
       "\n",
       "   total intl minutes  total intl calls  total intl charge  \\\n",
       "0                10.0                 3               2.70   \n",
       "1                13.7                 3               3.70   \n",
       "2                12.2                 5               3.29   \n",
       "3                 6.6                 7               1.78   \n",
       "4                10.1                 3               2.73   \n",
       "\n",
       "   customer service calls  churn  international plan_no  \\\n",
       "0                       1      0                      1   \n",
       "1                       1      0                      1   \n",
       "2                       0      0                      1   \n",
       "3                       2      0                      0   \n",
       "4                       3      0                      0   \n",
       "\n",
       "   international plan_yes  voice mail plan_no  voice mail plan_yes  \n",
       "0                       0                   0                    1  \n",
       "1                       0                   0                    1  \n",
       "2                       0                   1                    0  \n",
       "3                       1                   1                    0  \n",
       "4                       1                   1                    0  "
      ]
     },
     "execution_count": 9,
     "metadata": {},
     "output_type": "execute_result"
    }
   ],
   "source": [
    "#Checking to see if it works\n",
    "cats_ohe.head()"
   ]
  },
  {
   "cell_type": "code",
   "execution_count": 10,
   "metadata": {},
   "outputs": [],
   "source": [
    "#REnaming the dataframe for simplicity\n",
    "pdf = cats_ohe"
   ]
  },
  {
   "cell_type": "code",
   "execution_count": 11,
   "metadata": {},
   "outputs": [
    {
     "data": {
      "text/plain": [
       "(3333, 20)"
      ]
     },
     "execution_count": 11,
     "metadata": {},
     "output_type": "execute_result"
    }
   ],
   "source": [
    "pdf.shape"
   ]
  },
  {
   "cell_type": "code",
   "execution_count": 12,
   "metadata": {},
   "outputs": [
    {
     "data": {
      "image/png": "[encoded data removed]",
      "text/plain": [
       "<Figure size 1440x1440 with 20 Axes>"
      ]
     },
     "metadata": {},
     "output_type": "display_data"
    }
   ],
   "source": [
    "#Taking a look at histplot for distribution\n",
    "pdf.hist(bins = 'auto', figsize = (20,20));"
   ]
  },
  {
   "cell_type": "markdown",
   "metadata": {},
   "source": [
    ">The one thing we're most interested in looking at is the churn column"
   ]
  },
  {
   "cell_type": "code",
   "execution_count": 13,
   "metadata": {},
   "outputs": [
    {
     "data": {
      "text/plain": [
       "0    2850\n",
       "1     483\n",
       "Name: churn, dtype: int64"
      ]
     },
     "execution_count": 13,
     "metadata": {},
     "output_type": "execute_result"
    }
   ],
   "source": [
    "pdf['churn'].value_counts()"
   ]
  },
  {
   "cell_type": "code",
   "execution_count": 119,
   "metadata": {
    "scrolled": false
   },
   "outputs": [
    {
     "data": {
      "image/png": "[encoded data removed]",
      "text/plain": [
       "<Figure size 432x288 with 1 Axes>"
      ]
     },
     "metadata": {},
     "output_type": "display_data"
    }
   ],
   "source": [
    "pdf['churn'].value_counts().plot(kind = 'bar', xlabel = 'churn', ylabel = 'Number of Customers');"
   ]
  },
  {
   "cell_type": "markdown",
   "metadata": {},
   "source": [
    ">We can see there is data imbalance here in the churn value counts, we'll fix it by using SMOTE later on"
   ]
  },
  {
   "cell_type": "markdown",
   "metadata": {},
   "source": [
    "Looking at other features"
   ]
  },
  {
   "cell_type": "code",
   "execution_count": 112,
   "metadata": {
    "scrolled": false
   },
   "outputs": [
    {
     "data": {
      "image/png": "[encoded data removed]",
      "text/plain": [
       "<Figure size 689.625x216 with 1 Axes>"
      ]
     },
     "metadata": {},
     "output_type": "display_data"
    },
    {
     "data": {
      "image/png": "[encoded data removed]",
      "text/plain": [
       "<Figure size 689.625x216 with 1 Axes>"
      ]
     },
     "metadata": {},
     "output_type": "display_data"
    },
    {
     "data": {
      "image/png": "[encoded data removed]",
      "text/plain": [
       "<Figure size 689.625x216 with 1 Axes>"
      ]
     },
     "metadata": {},
     "output_type": "display_data"
    }
   ],
   "source": [
    "#FacetGrid to see how total day columns impact churn\n",
    "facet = sns.FacetGrid(pdf, hue = 'churn', aspect = 3)\n",
    "facet.map(sns.kdeplot,'total day charge',shade= True)\n",
    "facet.set(xlim=(0, pdf['total day charge'].max()))\n",
    "facet.add_legend()\n",
    "\n",
    "facet = sns.FacetGrid(pdf, hue = 'churn', aspect = 3)\n",
    "facet.map(sns.kdeplot,'total day calls',shade= True)\n",
    "facet.set(xlim=(0, pdf['total day calls'].max()))\n",
    "facet.add_legend();\n",
    "\n",
    "facet = sns.FacetGrid(pdf, hue = 'churn', aspect = 3)\n",
    "facet.map(sns.kdeplot,'total day minutes',shade= True)\n",
    "facet.set(xlim=(0, pdf['total day minutes'].max()))\n",
    "facet.add_legend();"
   ]
  },
  {
   "cell_type": "code",
   "execution_count": 102,
   "metadata": {
    "scrolled": true
   },
   "outputs": [
    {
     "data": {
      "image/png": "[encoded data removed]",
      "text/plain": [
       "<Figure size 432x288 with 1 Axes>"
      ]
     },
     "metadata": {},
     "output_type": "display_data"
    }
   ],
   "source": [
    "#Looking at countplot to see customer service has an impact on churn\n",
    "sns.countplot(data=pdf, x = 'customer service calls', hue = 'churn');"
   ]
  },
  {
   "cell_type": "code",
   "execution_count": 103,
   "metadata": {
    "scrolled": true
   },
   "outputs": [
    {
     "data": {
      "image/png": "[encoded data removed]",
      "text/plain": [
       "<Figure size 432x288 with 1 Axes>"
      ]
     },
     "metadata": {},
     "output_type": "display_data"
    }
   ],
   "source": [
    "#Looking at the relationship between account length and total day minutes \n",
    "#to see if there is any significant grouping of churn\n",
    "sns.scatterplot(x='account length', y = \"total day minutes\" , hue='churn', data=pdf);"
   ]
  },
  {
   "cell_type": "markdown",
   "metadata": {},
   "source": [
    "## Train Test Split"
   ]
  },
  {
   "cell_type": "markdown",
   "metadata": {},
   "source": [
    ">Create a function for the train test split so it will be consistent for each model"
   ]
  },
  {
   "cell_type": "code",
   "execution_count": 104,
   "metadata": {},
   "outputs": [],
   "source": [
    "#Importing the library\n",
    "from sklearn.model_selection import train_test_split"
   ]
  },
  {
   "cell_type": "code",
   "execution_count": 105,
   "metadata": {},
   "outputs": [
    {
     "name": "stdout",
     "output_type": "stream",
     "text": [
      "0    2284\n",
      "1     382\n",
      "Name: churn, dtype: int64\n",
      "\n",
      "\n",
      "0    566\n",
      "1    101\n",
      "Name: churn, dtype: int64\n"
     ]
    }
   ],
   "source": [
    "y = pdf['churn']\n",
    "X = pdf.drop(columns=['churn'], axis = 1)\n",
    "X_train, X_test, y_train, y_test = train_test_split(X, y, test_size = 0.2, \n",
    "                                                    random_state = 42)\n",
    "   \n",
    "#Train set\n",
    "print(y_train.value_counts())\n",
    "print('\\n')\n",
    "#Test set\n",
    "print(y_test.value_counts())"
   ]
  },
  {
   "cell_type": "markdown",
   "metadata": {},
   "source": [
    "### SMOTE"
   ]
  },
  {
   "cell_type": "markdown",
   "metadata": {},
   "source": [
    ">Now using SMOTE from the imblearn package"
   ]
  },
  {
   "cell_type": "code",
   "execution_count": 106,
   "metadata": {},
   "outputs": [],
   "source": [
    "from imblearn.over_sampling import SMOTE"
   ]
  },
  {
   "cell_type": "code",
   "execution_count": 107,
   "metadata": {
    "scrolled": false
   },
   "outputs": [
    {
     "name": "stdout",
     "output_type": "stream",
     "text": [
      "Before SMOTE:\n",
      "0    2284\n",
      "1     382\n",
      "Name: churn, dtype: int64\n",
      "\n",
      "\n",
      "After SMOTE:\n",
      "1    2284\n",
      "0    2284\n",
      "Name: churn, dtype: int64\n"
     ]
    }
   ],
   "source": [
    "print('Before SMOTE:')\n",
    "print(y_train.value_counts())\n",
    "\n",
    "#Fitting SMOTE to the training data\n",
    "X_train_smoted, y_train_smoted = SMOTE().fit_sample(X_train, y_train)\n",
    "\n",
    "print('\\n')\n",
    "print('After SMOTE:')\n",
    "print(pd.Series(y_train_smoted).value_counts())"
   ]
  },
  {
   "cell_type": "markdown",
   "metadata": {},
   "source": [
    ">The data is balanced now thanks to the SMOTE method"
   ]
  },
  {
   "cell_type": "markdown",
   "metadata": {},
   "source": [
    "## Logistic Regression\n"
   ]
  },
  {
   "cell_type": "code",
   "execution_count": 22,
   "metadata": {},
   "outputs": [],
   "source": [
    "#Import necessary function for Logistic Regression\n",
    "from sklearn.linear_model import LogisticRegression"
   ]
  },
  {
   "cell_type": "code",
   "execution_count": 23,
   "metadata": {},
   "outputs": [
    {
     "data": {
      "text/html": [
       "<div>\n",
       "<style scoped>\n",
       "    .dataframe tbody tr th:only-of-type {\n",
       "        vertical-align: middle;\n",
       "    }\n",
       "\n",
       "    .dataframe tbody tr th {\n",
       "        vertical-align: top;\n",
       "    }\n",
       "\n",
       "    .dataframe thead th {\n",
       "        text-align: right;\n",
       "    }\n",
       "</style>\n",
       "<table border=\"1\" class=\"dataframe\">\n",
       "  <thead>\n",
       "    <tr style=\"text-align: right;\">\n",
       "      <th></th>\n",
       "      <th>account length</th>\n",
       "      <th>number vmail messages</th>\n",
       "      <th>total day minutes</th>\n",
       "      <th>total day calls</th>\n",
       "      <th>total day charge</th>\n",
       "      <th>total eve minutes</th>\n",
       "      <th>total eve calls</th>\n",
       "      <th>total eve charge</th>\n",
       "      <th>total night minutes</th>\n",
       "      <th>total night calls</th>\n",
       "      <th>total night charge</th>\n",
       "      <th>total intl minutes</th>\n",
       "      <th>total intl calls</th>\n",
       "      <th>total intl charge</th>\n",
       "      <th>customer service calls</th>\n",
       "      <th>international plan_no</th>\n",
       "      <th>international plan_yes</th>\n",
       "      <th>voice mail plan_no</th>\n",
       "      <th>voice mail plan_yes</th>\n",
       "    </tr>\n",
       "  </thead>\n",
       "  <tbody>\n",
       "    <tr>\n",
       "      <th>0</th>\n",
       "      <td>0.524793</td>\n",
       "      <td>0.490196</td>\n",
       "      <td>0.755701</td>\n",
       "      <td>0.666667</td>\n",
       "      <td>0.755701</td>\n",
       "      <td>0.542755</td>\n",
       "      <td>0.582353</td>\n",
       "      <td>0.542866</td>\n",
       "      <td>0.595750</td>\n",
       "      <td>0.408451</td>\n",
       "      <td>0.595935</td>\n",
       "      <td>0.500</td>\n",
       "      <td>0.15</td>\n",
       "      <td>0.500000</td>\n",
       "      <td>0.111111</td>\n",
       "      <td>1.0</td>\n",
       "      <td>0.0</td>\n",
       "      <td>0.0</td>\n",
       "      <td>1.0</td>\n",
       "    </tr>\n",
       "    <tr>\n",
       "      <th>1</th>\n",
       "      <td>0.438017</td>\n",
       "      <td>0.509804</td>\n",
       "      <td>0.460661</td>\n",
       "      <td>0.745455</td>\n",
       "      <td>0.460597</td>\n",
       "      <td>0.537531</td>\n",
       "      <td>0.605882</td>\n",
       "      <td>0.537690</td>\n",
       "      <td>0.621840</td>\n",
       "      <td>0.492958</td>\n",
       "      <td>0.622236</td>\n",
       "      <td>0.685</td>\n",
       "      <td>0.15</td>\n",
       "      <td>0.685185</td>\n",
       "      <td>0.111111</td>\n",
       "      <td>1.0</td>\n",
       "      <td>0.0</td>\n",
       "      <td>0.0</td>\n",
       "      <td>1.0</td>\n",
       "    </tr>\n",
       "    <tr>\n",
       "      <th>2</th>\n",
       "      <td>0.561983</td>\n",
       "      <td>0.000000</td>\n",
       "      <td>0.693843</td>\n",
       "      <td>0.690909</td>\n",
       "      <td>0.693830</td>\n",
       "      <td>0.333242</td>\n",
       "      <td>0.647059</td>\n",
       "      <td>0.333225</td>\n",
       "      <td>0.374933</td>\n",
       "      <td>0.500000</td>\n",
       "      <td>0.375374</td>\n",
       "      <td>0.610</td>\n",
       "      <td>0.25</td>\n",
       "      <td>0.609259</td>\n",
       "      <td>0.000000</td>\n",
       "      <td>1.0</td>\n",
       "      <td>0.0</td>\n",
       "      <td>1.0</td>\n",
       "      <td>0.0</td>\n",
       "    </tr>\n",
       "    <tr>\n",
       "      <th>3</th>\n",
       "      <td>0.342975</td>\n",
       "      <td>0.000000</td>\n",
       "      <td>0.853478</td>\n",
       "      <td>0.430303</td>\n",
       "      <td>0.853454</td>\n",
       "      <td>0.170195</td>\n",
       "      <td>0.517647</td>\n",
       "      <td>0.170171</td>\n",
       "      <td>0.467187</td>\n",
       "      <td>0.394366</td>\n",
       "      <td>0.467424</td>\n",
       "      <td>0.330</td>\n",
       "      <td>0.35</td>\n",
       "      <td>0.329630</td>\n",
       "      <td>0.222222</td>\n",
       "      <td>0.0</td>\n",
       "      <td>1.0</td>\n",
       "      <td>1.0</td>\n",
       "      <td>0.0</td>\n",
       "    </tr>\n",
       "    <tr>\n",
       "      <th>4</th>\n",
       "      <td>0.305785</td>\n",
       "      <td>0.000000</td>\n",
       "      <td>0.475200</td>\n",
       "      <td>0.684848</td>\n",
       "      <td>0.475184</td>\n",
       "      <td>0.407754</td>\n",
       "      <td>0.717647</td>\n",
       "      <td>0.407959</td>\n",
       "      <td>0.440290</td>\n",
       "      <td>0.619718</td>\n",
       "      <td>0.440526</td>\n",
       "      <td>0.505</td>\n",
       "      <td>0.15</td>\n",
       "      <td>0.505556</td>\n",
       "      <td>0.333333</td>\n",
       "      <td>0.0</td>\n",
       "      <td>1.0</td>\n",
       "      <td>1.0</td>\n",
       "      <td>0.0</td>\n",
       "    </tr>\n",
       "  </tbody>\n",
       "</table>\n",
       "</div>"
      ],
      "text/plain": [
       "   account length  number vmail messages  total day minutes  total day calls  \\\n",
       "0        0.524793               0.490196           0.755701         0.666667   \n",
       "1        0.438017               0.509804           0.460661         0.745455   \n",
       "2        0.561983               0.000000           0.693843         0.690909   \n",
       "3        0.342975               0.000000           0.853478         0.430303   \n",
       "4        0.305785               0.000000           0.475200         0.684848   \n",
       "\n",
       "   total day charge  total eve minutes  total eve calls  total eve charge  \\\n",
       "0          0.755701           0.542755         0.582353          0.542866   \n",
       "1          0.460597           0.537531         0.605882          0.537690   \n",
       "2          0.693830           0.333242         0.647059          0.333225   \n",
       "3          0.853454           0.170195         0.517647          0.170171   \n",
       "4          0.475184           0.407754         0.717647          0.407959   \n",
       "\n",
       "   total night minutes  total night calls  total night charge  \\\n",
       "0             0.595750           0.408451            0.595935   \n",
       "1             0.621840           0.492958            0.622236   \n",
       "2             0.374933           0.500000            0.375374   \n",
       "3             0.467187           0.394366            0.467424   \n",
       "4             0.440290           0.619718            0.440526   \n",
       "\n",
       "   total intl minutes  total intl calls  total intl charge  \\\n",
       "0               0.500              0.15           0.500000   \n",
       "1               0.685              0.15           0.685185   \n",
       "2               0.610              0.25           0.609259   \n",
       "3               0.330              0.35           0.329630   \n",
       "4               0.505              0.15           0.505556   \n",
       "\n",
       "   customer service calls  international plan_no  international plan_yes  \\\n",
       "0                0.111111                    1.0                     0.0   \n",
       "1                0.111111                    1.0                     0.0   \n",
       "2                0.000000                    1.0                     0.0   \n",
       "3                0.222222                    0.0                     1.0   \n",
       "4                0.333333                    0.0                     1.0   \n",
       "\n",
       "   voice mail plan_no  voice mail plan_yes  \n",
       "0                 0.0                  1.0  \n",
       "1                 0.0                  1.0  \n",
       "2                 1.0                  0.0  \n",
       "3                 1.0                  0.0  \n",
       "4                 1.0                  0.0  "
      ]
     },
     "execution_count": 23,
     "metadata": {},
     "output_type": "execute_result"
    }
   ],
   "source": [
    "#Normalizing the data by using minmax\n",
    "X = X.apply(lambda x : (x-x.min()) / (x.max() - x.min()), axis = 0)\n",
    "X.head()"
   ]
  },
  {
   "cell_type": "code",
   "execution_count": 24,
   "metadata": {},
   "outputs": [],
   "source": [
    "#Split the data into training and test sets\n",
    "X_train, X_test, y_train, y_test = train_test_split(X, y, test_size = 0.2, \n",
    "                                                    random_state=0)"
   ]
  },
  {
   "cell_type": "code",
   "execution_count": 25,
   "metadata": {
    "scrolled": true
   },
   "outputs": [
    {
     "data": {
      "text/plain": [
       "LogisticRegression(C=1000000000000.0, fit_intercept=False, solver='liblinear')"
      ]
     },
     "execution_count": 25,
     "metadata": {},
     "output_type": "execute_result"
    }
   ],
   "source": [
    "#Instantiating the model\n",
    "logreg = LogisticRegression(fit_intercept = False, C=1e12, solver='liblinear')\n",
    "\n",
    "#Fitting the model\n",
    "logreg.fit(X_train, y_train)"
   ]
  },
  {
   "cell_type": "markdown",
   "metadata": {},
   "source": [
    ">Generate the predictions for the training and testing sets"
   ]
  },
  {
   "cell_type": "code",
   "execution_count": 26,
   "metadata": {},
   "outputs": [],
   "source": [
    "y_hat_train = logreg.predict(X_train)\n",
    "y_hat_test = logreg.predict(X_test)"
   ]
  },
  {
   "cell_type": "markdown",
   "metadata": {},
   "source": [
    ">Looking to see how accurate the classifier is on the train set"
   ]
  },
  {
   "cell_type": "code",
   "execution_count": 27,
   "metadata": {},
   "outputs": [
    {
     "name": "stdout",
     "output_type": "stream",
     "text": [
      "0    2292\n",
      "1     374\n",
      "Name: churn, dtype: int64\n",
      "0    0.859715\n",
      "1    0.140285\n",
      "Name: churn, dtype: float64\n"
     ]
    }
   ],
   "source": [
    "residuals = np.abs(y_train - y_hat_train)\n",
    "#Printing the actual numbers\n",
    "print(pd.Series(residuals).value_counts())\n",
    "#Printing the percentages\n",
    "print(pd.Series(residuals).value_counts(normalize=True))"
   ]
  },
  {
   "cell_type": "markdown",
   "metadata": {},
   "source": [
    ">Now look to see how many times the classifier was correct on the test set"
   ]
  },
  {
   "cell_type": "code",
   "execution_count": 28,
   "metadata": {
    "scrolled": true
   },
   "outputs": [
    {
     "name": "stdout",
     "output_type": "stream",
     "text": [
      "0    579\n",
      "1     88\n",
      "Name: churn, dtype: int64\n",
      "0    0.868066\n",
      "1    0.131934\n",
      "Name: churn, dtype: float64\n"
     ]
    }
   ],
   "source": [
    "residuals = np.abs(y_test - y_hat_test)\n",
    "#Printing the actual numbers\n",
    "print(pd.Series(residuals).value_counts())\n",
    "#Printing the percentages\n",
    "print(pd.Series(residuals).value_counts(normalize=True))"
   ]
  },
  {
   "cell_type": "code",
   "execution_count": 29,
   "metadata": {},
   "outputs": [
    {
     "name": "stdout",
     "output_type": "stream",
     "text": [
      "Confusion Marix: \n",
      " [[561  18]\n",
      " [ 70  18]]\n"
     ]
    }
   ],
   "source": [
    "#Importing sklearn confusion matrix\n",
    "from sklearn.metrics import confusion_matrix\n",
    "\n",
    "cnf_matrix = confusion_matrix(y_test, y_hat_test)\n",
    "print('Confusion Marix: \\n', cnf_matrix)"
   ]
  },
  {
   "cell_type": "code",
   "execution_count": 30,
   "metadata": {},
   "outputs": [],
   "source": [
    "#Importing the plot for confusion matrix\n",
    "from sklearn.metrics import plot_confusion_matrix"
   ]
  },
  {
   "cell_type": "code",
   "execution_count": 31,
   "metadata": {},
   "outputs": [
    {
     "data": {
      "image/png": "[encoded data removed]",
      "text/plain": [
       "<Figure size 432x288 with 2 Axes>"
      ]
     },
     "metadata": {},
     "output_type": "display_data"
    }
   ],
   "source": [
    "#Creating a function to plot confusion matrix\n",
    "def plot_c_matrix(model):\n",
    "    plot_confusion_matrix(model, X_test, y_test, cmap=plt.cm.Greens)\n",
    "    plt.grid(False)\n",
    "    plt.show()\n",
    "plot_c_matrix(logreg)"
   ]
  },
  {
   "cell_type": "markdown",
   "metadata": {},
   "source": [
    "### Analysis"
   ]
  },
  {
   "cell_type": "markdown",
   "metadata": {},
   "source": [
    "Initial assessment shows that the model is approximately  87% accurate on the test set. The confusing matrix shows a lot of True Negative and a fair chunk of False Negative. Overall it shows that it could use some more further work, may worth trying the SMOTE to balance the churn data and run the Logistic Regression again."
   ]
  },
  {
   "cell_type": "markdown",
   "metadata": {},
   "source": [
    "## KNN"
   ]
  },
  {
   "cell_type": "markdown",
   "metadata": {},
   "source": [
    "We'll need to normalize the data by scaling the data before doing the KNN model"
   ]
  },
  {
   "cell_type": "code",
   "execution_count": 32,
   "metadata": {
    "scrolled": true
   },
   "outputs": [
    {
     "data": {
      "text/html": [
       "<div>\n",
       "<style scoped>\n",
       "    .dataframe tbody tr th:only-of-type {\n",
       "        vertical-align: middle;\n",
       "    }\n",
       "\n",
       "    .dataframe tbody tr th {\n",
       "        vertical-align: top;\n",
       "    }\n",
       "\n",
       "    .dataframe thead th {\n",
       "        text-align: right;\n",
       "    }\n",
       "</style>\n",
       "<table border=\"1\" class=\"dataframe\">\n",
       "  <thead>\n",
       "    <tr style=\"text-align: right;\">\n",
       "      <th></th>\n",
       "      <th>account length</th>\n",
       "      <th>number vmail messages</th>\n",
       "      <th>total day minutes</th>\n",
       "      <th>total day calls</th>\n",
       "      <th>total day charge</th>\n",
       "      <th>total eve minutes</th>\n",
       "      <th>total eve calls</th>\n",
       "      <th>total eve charge</th>\n",
       "      <th>total night minutes</th>\n",
       "      <th>total night calls</th>\n",
       "      <th>total night charge</th>\n",
       "      <th>total intl minutes</th>\n",
       "      <th>total intl calls</th>\n",
       "      <th>total intl charge</th>\n",
       "      <th>customer service calls</th>\n",
       "      <th>international plan_no</th>\n",
       "      <th>international plan_yes</th>\n",
       "      <th>voice mail plan_no</th>\n",
       "      <th>voice mail plan_yes</th>\n",
       "    </tr>\n",
       "  </thead>\n",
       "  <tbody>\n",
       "    <tr>\n",
       "      <th>0</th>\n",
       "      <td>-0.510130</td>\n",
       "      <td>-0.589441</td>\n",
       "      <td>0.334535</td>\n",
       "      <td>2.962041</td>\n",
       "      <td>0.334802</td>\n",
       "      <td>-0.879648</td>\n",
       "      <td>-0.653460</td>\n",
       "      <td>-0.879573</td>\n",
       "      <td>-0.377791</td>\n",
       "      <td>-1.214353</td>\n",
       "      <td>-0.379791</td>\n",
       "      <td>-0.334364</td>\n",
       "      <td>-0.605667</td>\n",
       "      <td>-0.336336</td>\n",
       "      <td>1.097125</td>\n",
       "      <td>0.320968</td>\n",
       "      <td>-0.320968</td>\n",
       "      <td>0.615795</td>\n",
       "      <td>-0.615795</td>\n",
       "    </tr>\n",
       "    <tr>\n",
       "      <th>1</th>\n",
       "      <td>-1.813562</td>\n",
       "      <td>-0.589441</td>\n",
       "      <td>-0.216885</td>\n",
       "      <td>-0.667438</td>\n",
       "      <td>-0.217378</td>\n",
       "      <td>-0.781652</td>\n",
       "      <td>-0.403801</td>\n",
       "      <td>-0.782731</td>\n",
       "      <td>-0.174258</td>\n",
       "      <td>0.602831</td>\n",
       "      <td>-0.173408</td>\n",
       "      <td>-0.049965</td>\n",
       "      <td>-0.605667</td>\n",
       "      <td>-0.046662</td>\n",
       "      <td>1.097125</td>\n",
       "      <td>0.320968</td>\n",
       "      <td>-0.320968</td>\n",
       "      <td>0.615795</td>\n",
       "      <td>-0.615795</td>\n",
       "    </tr>\n",
       "    <tr>\n",
       "      <th>2</th>\n",
       "      <td>0.492510</td>\n",
       "      <td>-0.589441</td>\n",
       "      <td>1.328566</td>\n",
       "      <td>0.973285</td>\n",
       "      <td>1.328509</td>\n",
       "      <td>-1.007043</td>\n",
       "      <td>0.295246</td>\n",
       "      <td>-1.006391</td>\n",
       "      <td>-0.976535</td>\n",
       "      <td>-0.204806</td>\n",
       "      <td>-0.976985</td>\n",
       "      <td>-0.227714</td>\n",
       "      <td>-1.425524</td>\n",
       "      <td>-0.231000</td>\n",
       "      <td>0.338190</td>\n",
       "      <td>0.320968</td>\n",
       "      <td>-0.320968</td>\n",
       "      <td>0.615795</td>\n",
       "      <td>-0.615795</td>\n",
       "    </tr>\n",
       "    <tr>\n",
       "      <th>3</th>\n",
       "      <td>0.116520</td>\n",
       "      <td>-0.589441</td>\n",
       "      <td>1.321189</td>\n",
       "      <td>-0.617719</td>\n",
       "      <td>1.320915</td>\n",
       "      <td>-0.519022</td>\n",
       "      <td>0.145451</td>\n",
       "      <td>-0.519873</td>\n",
       "      <td>-0.332342</td>\n",
       "      <td>0.602831</td>\n",
       "      <td>-0.331489</td>\n",
       "      <td>-1.720811</td>\n",
       "      <td>0.214190</td>\n",
       "      <td>-1.718868</td>\n",
       "      <td>-0.420745</td>\n",
       "      <td>0.320968</td>\n",
       "      <td>-0.320968</td>\n",
       "      <td>0.615795</td>\n",
       "      <td>-0.615795</td>\n",
       "    </tr>\n",
       "    <tr>\n",
       "      <th>4</th>\n",
       "      <td>0.843434</td>\n",
       "      <td>1.916153</td>\n",
       "      <td>1.240044</td>\n",
       "      <td>0.227502</td>\n",
       "      <td>1.239552</td>\n",
       "      <td>0.468778</td>\n",
       "      <td>1.643408</td>\n",
       "      <td>0.469303</td>\n",
       "      <td>-0.294797</td>\n",
       "      <td>-1.214353</td>\n",
       "      <td>-0.296360</td>\n",
       "      <td>-1.471962</td>\n",
       "      <td>0.214190</td>\n",
       "      <td>-1.468696</td>\n",
       "      <td>0.338190</td>\n",
       "      <td>0.320968</td>\n",
       "      <td>-0.320968</td>\n",
       "      <td>-1.623917</td>\n",
       "      <td>1.623917</td>\n",
       "    </tr>\n",
       "  </tbody>\n",
       "</table>\n",
       "</div>"
      ],
      "text/plain": [
       "   account length  number vmail messages  total day minutes  total day calls  \\\n",
       "0       -0.510130              -0.589441           0.334535         2.962041   \n",
       "1       -1.813562              -0.589441          -0.216885        -0.667438   \n",
       "2        0.492510              -0.589441           1.328566         0.973285   \n",
       "3        0.116520              -0.589441           1.321189        -0.617719   \n",
       "4        0.843434               1.916153           1.240044         0.227502   \n",
       "\n",
       "   total day charge  total eve minutes  total eve calls  total eve charge  \\\n",
       "0          0.334802          -0.879648        -0.653460         -0.879573   \n",
       "1         -0.217378          -0.781652        -0.403801         -0.782731   \n",
       "2          1.328509          -1.007043         0.295246         -1.006391   \n",
       "3          1.320915          -0.519022         0.145451         -0.519873   \n",
       "4          1.239552           0.468778         1.643408          0.469303   \n",
       "\n",
       "   total night minutes  total night calls  total night charge  \\\n",
       "0            -0.377791          -1.214353           -0.379791   \n",
       "1            -0.174258           0.602831           -0.173408   \n",
       "2            -0.976535          -0.204806           -0.976985   \n",
       "3            -0.332342           0.602831           -0.331489   \n",
       "4            -0.294797          -1.214353           -0.296360   \n",
       "\n",
       "   total intl minutes  total intl calls  total intl charge  \\\n",
       "0           -0.334364         -0.605667          -0.336336   \n",
       "1           -0.049965         -0.605667          -0.046662   \n",
       "2           -0.227714         -1.425524          -0.231000   \n",
       "3           -1.720811          0.214190          -1.718868   \n",
       "4           -1.471962          0.214190          -1.468696   \n",
       "\n",
       "   customer service calls  international plan_no  international plan_yes  \\\n",
       "0                1.097125               0.320968               -0.320968   \n",
       "1                1.097125               0.320968               -0.320968   \n",
       "2                0.338190               0.320968               -0.320968   \n",
       "3               -0.420745               0.320968               -0.320968   \n",
       "4                0.338190               0.320968               -0.320968   \n",
       "\n",
       "   voice mail plan_no  voice mail plan_yes  \n",
       "0            0.615795            -0.615795  \n",
       "1            0.615795            -0.615795  \n",
       "2            0.615795            -0.615795  \n",
       "3            0.615795            -0.615795  \n",
       "4           -1.623917             1.623917  "
      ]
     },
     "execution_count": 32,
     "metadata": {},
     "output_type": "execute_result"
    }
   ],
   "source": [
    "#Importing StandardScaler\n",
    "from sklearn.preprocessing import StandardScaler\n",
    "\n",
    "#Instantiate StandardScaler\n",
    "scaler = StandardScaler()\n",
    "\n",
    "#Transforming the training and test sets\n",
    "scaled_data_train = scaler.fit_transform(X_train)\n",
    "scaled_data_test = scaler.fit_transform(X_test)\n",
    "\n",
    "#Converting into a DataFrame for KNN\n",
    "scaled_df_train = pd.DataFrame(scaled_data_train, columns=X.columns)\n",
    "scaled_df_train.head()"
   ]
  },
  {
   "cell_type": "markdown",
   "metadata": {},
   "source": [
    ">Fitting a KNN model"
   ]
  },
  {
   "cell_type": "code",
   "execution_count": 33,
   "metadata": {},
   "outputs": [],
   "source": [
    "#Import KNeighborsClassifier\n",
    "from sklearn.neighbors import KNeighborsClassifier\n",
    "\n",
    "#Instantiate KNeighborsClassifier\n",
    "clf = KNeighborsClassifier()\n",
    "\n",
    "#Fitting the classifier\n",
    "clf.fit(scaled_data_train, y_train)\n",
    "\n",
    "#Predicting on the test set\n",
    "test_preds = clf.predict(scaled_data_test)"
   ]
  },
  {
   "cell_type": "code",
   "execution_count": 34,
   "metadata": {},
   "outputs": [],
   "source": [
    "#Import the necessary functions\n",
    "from sklearn.metrics import precision_score, recall_score, accuracy_score, f1_score"
   ]
  },
  {
   "cell_type": "code",
   "execution_count": 35,
   "metadata": {
    "scrolled": true
   },
   "outputs": [
    {
     "name": "stdout",
     "output_type": "stream",
     "text": [
      "Precision Score: 0.6956521739130435\n",
      "Recall Score: 0.36363636363636365\n",
      "Accuracy Score: 0.8950524737631185\n",
      "F1 Score: 0.4776119402985074\n"
     ]
    }
   ],
   "source": [
    "#Creating a function that spits out all of the scores\n",
    "def print_metrics(labels, preds):\n",
    "    print(\"Precision Score: {}\".format(precision_score(labels, preds)))\n",
    "    print(\"Recall Score: {}\".format(recall_score(labels, preds)))\n",
    "    print(\"Accuracy Score: {}\".format(accuracy_score(labels, preds)))\n",
    "    print(\"F1 Score: {}\".format(f1_score(labels, preds)))\n",
    "    \n",
    "print_metrics(y_test, test_preds)"
   ]
  },
  {
   "cell_type": "markdown",
   "metadata": {},
   "source": [
    "### Analysis"
   ]
  },
  {
   "cell_type": "markdown",
   "metadata": {},
   "source": [
    "Overall the KNN model is alright, it's not that great of a model, it score low on the Recall (0.36) and the F1 score (0.47) meaning not a lot of data being accounted for, the precision (0.70) is somewhat decent and the accuracy (0.90) looks really good. "
   ]
  },
  {
   "cell_type": "markdown",
   "metadata": {
    "heading_collapsed": true
   },
   "source": [
    "## Decision Tree"
   ]
  },
  {
   "cell_type": "markdown",
   "metadata": {
    "hidden": true
   },
   "source": [
    "This section is commented out as I did another set of decision tree model soon after, wanted to keep this work as future reference for myself"
   ]
  },
  {
   "cell_type": "code",
   "execution_count": 36,
   "metadata": {
    "hidden": true
   },
   "outputs": [],
   "source": [
    "#Importing the necessary libraries for Decision Tree\n",
    "from sklearn.tree import DecisionTreeClassifier\n",
    "from sklearn.metrics import roc_curve, auc\n",
    "from sklearn import tree"
   ]
  },
  {
   "cell_type": "code",
   "execution_count": 95,
   "metadata": {
    "hidden": true
   },
   "outputs": [],
   "source": [
    "# #Train test split\n",
    "# y = pdf['churn']\n",
    "# X = pdf.drop(columns=['churn'], axis = 1)\n",
    "# X_train, X_test, y_train, y_test = train_test_split(X, y, test_size = 0.2, \n",
    "#                                                     random_state = 42)\n",
    "   \n",
    "# #Train set\n",
    "# print(y_train.value_counts())\n",
    "# print('\\n')\n",
    "# #Test set\n",
    "# print(y_test.value_counts())"
   ]
  },
  {
   "cell_type": "code",
   "execution_count": 96,
   "metadata": {
    "hidden": true
   },
   "outputs": [],
   "source": [
    "# #Train a Decision Tree Classifier\n",
    "# classifier = DecisionTreeClassifier(random_state=10)\n",
    "# classifier.fit(X_train, y_train)"
   ]
  },
  {
   "cell_type": "code",
   "execution_count": 97,
   "metadata": {
    "hidden": true
   },
   "outputs": [],
   "source": [
    "# #Make prediction for the test data\n",
    "# y_pred = classifier.predict(X_test)"
   ]
  },
  {
   "cell_type": "markdown",
   "metadata": {
    "hidden": true
   },
   "source": [
    ">Check the predictive performance"
   ]
  },
  {
   "cell_type": "code",
   "execution_count": 98,
   "metadata": {
    "hidden": true,
    "scrolled": false
   },
   "outputs": [],
   "source": [
    "#Looking for accuracy\n",
    "# accuracy = accuracy_score(y_test, y_pred) * 100\n",
    "# print('The Accuracy is :{0}'.format(accuracy))\n",
    "\n",
    "# #Checking the Area Under the Curve (AUC) for predictions\n",
    "# #False Positive Rate, True Positive Rate \n",
    "# fpr, tpr, thresholds = roc_curve(y_test, y_pred)\n",
    "# roc_auc = auc(fpr, tpr)\n",
    "# print('\\nAUC is :{0}'.format(round(roc_auc, 2)))"
   ]
  },
  {
   "cell_type": "code",
   "execution_count": 99,
   "metadata": {
    "hidden": true
   },
   "outputs": [],
   "source": [
    "# plot_c_matrix(classifier)"
   ]
  },
  {
   "cell_type": "markdown",
   "metadata": {
    "hidden": true
   },
   "source": [
    "### Analysis"
   ]
  },
  {
   "cell_type": "markdown",
   "metadata": {
    "hidden": true
   },
   "source": [
    "The accuracy is pretty high on this model being at 92.8%, the AUC looks good. The confusing matrix looks pretty good overall."
   ]
  },
  {
   "cell_type": "markdown",
   "metadata": {},
   "source": [
    "## Baseline Random Forest"
   ]
  },
  {
   "cell_type": "code",
   "execution_count": 42,
   "metadata": {},
   "outputs": [],
   "source": [
    "#Import the necessary libraries\n",
    "from sklearn.metrics import classification_report\n",
    "from sklearn.ensemble import BaggingClassifier, RandomForestClassifier"
   ]
  },
  {
   "cell_type": "code",
   "execution_count": 43,
   "metadata": {
    "scrolled": false
   },
   "outputs": [
    {
     "name": "stdout",
     "output_type": "stream",
     "text": [
      "0    2284\n",
      "1     382\n",
      "Name: churn, dtype: int64\n",
      "\n",
      "\n",
      "0    566\n",
      "1    101\n",
      "Name: churn, dtype: int64\n"
     ]
    }
   ],
   "source": [
    "#Train test split\n",
    "y = pdf['churn']\n",
    "X = pdf.drop(columns=['churn'], axis = 1)\n",
    "X_train, X_test, y_train, y_test = train_test_split(X, y, test_size = 0.2, \n",
    "                                                    random_state = 42)\n",
    "   \n",
    "#Train set\n",
    "print(y_train.value_counts())\n",
    "print('\\n')\n",
    "#Test set\n",
    "print(y_test.value_counts())"
   ]
  },
  {
   "cell_type": "markdown",
   "metadata": {},
   "source": [
    "### Decision Tree"
   ]
  },
  {
   "cell_type": "code",
   "execution_count": 44,
   "metadata": {
    "scrolled": true
   },
   "outputs": [
    {
     "data": {
      "text/plain": [
       "DecisionTreeClassifier()"
      ]
     },
     "execution_count": 44,
     "metadata": {},
     "output_type": "execute_result"
    }
   ],
   "source": [
    "#Instantiate and fitting\n",
    "tree_clf = DecisionTreeClassifier()\n",
    "tree_clf.fit(X_train, y_train)"
   ]
  },
  {
   "cell_type": "code",
   "execution_count": 45,
   "metadata": {
    "scrolled": true
   },
   "outputs": [
    {
     "data": {
      "text/plain": [
       "array([0.03191853, 0.05138104, 0.16387399, 0.02309047, 0.11397213,\n",
       "       0.07866051, 0.03288578, 0.06538863, 0.01909165, 0.01781228,\n",
       "       0.026387  , 0.09228163, 0.07038528, 0.00797438, 0.1132767 ,\n",
       "       0.00921539, 0.07121276, 0.00882179, 0.00237007])"
      ]
     },
     "execution_count": 45,
     "metadata": {},
     "output_type": "execute_result"
    }
   ],
   "source": [
    "#Looking to see how important each feature end up in the decision tree model\n",
    "tree_clf.feature_importances_"
   ]
  },
  {
   "cell_type": "code",
   "execution_count": 46,
   "metadata": {},
   "outputs": [],
   "source": [
    "#Make a function to quickly graph feature importances\n",
    "def plot_important_features(model):\n",
    "    important_features = pd.Series(data=model.feature_importances_, \n",
    "                                   index=X_train.columns)\n",
    "    important_features.sort_values(ascending=True,inplace=True)\n",
    "    important_features.plot(kind='barh', figsize=(8,8))"
   ]
  },
  {
   "cell_type": "code",
   "execution_count": 47,
   "metadata": {},
   "outputs": [
    {
     "data": {
      "image/png": "[encoded data removed]",
      "text/plain": [
       "<Figure size 576x576 with 1 Axes>"
      ]
     },
     "metadata": {},
     "output_type": "display_data"
    }
   ],
   "source": [
    "plot_important_features(tree_clf)"
   ]
  },
  {
   "cell_type": "code",
   "execution_count": 49,
   "metadata": {
    "scrolled": false
   },
   "outputs": [
    {
     "data": {
      "image/png": "[encoded data removed]",
      "text/plain": [
       "<Figure size 432x288 with 2 Axes>"
      ]
     },
     "metadata": {},
     "output_type": "display_data"
    },
    {
     "name": "stdout",
     "output_type": "stream",
     "text": [
      "Precision Score: 0.7129629629629629\n",
      "Recall Score: 0.7623762376237624\n",
      "Accuracy Score: 0.9175412293853074\n",
      "F1 Score: 0.7368421052631577\n"
     ]
    }
   ],
   "source": [
    "#Let's see how the model is performing\n",
    "pred = tree_clf.predict(X_test)\n",
    "plot_c_matrix(tree_clf)\n",
    "print_metrics(y_test, pred)"
   ]
  },
  {
   "cell_type": "code",
   "execution_count": 50,
   "metadata": {},
   "outputs": [
    {
     "name": "stdout",
     "output_type": "stream",
     "text": [
      "Testing Accuracy for Decision Tree Classifier: 91.75%\n"
     ]
    }
   ],
   "source": [
    "#Checking the model accuracy\n",
    "print(\"Testing Accuracy for Decision Tree Classifier: {:.4}%\".format(\n",
    "    accuracy_score(y_test, pred) * 100))"
   ]
  },
  {
   "cell_type": "markdown",
   "metadata": {},
   "source": [
    ">Analysis:\n",
    ">\n",
    ">The Decision Tree Model is decent with a high accuracy score. There is room for improvement in the other metrics as seen above"
   ]
  },
  {
   "cell_type": "markdown",
   "metadata": {},
   "source": [
    "### Bagged Tree"
   ]
  },
  {
   "cell_type": "code",
   "execution_count": 51,
   "metadata": {},
   "outputs": [],
   "source": [
    "#Instantiating BaggingClassifier\n",
    "bagged_tree = BaggingClassifier(DecisionTreeClassifier())"
   ]
  },
  {
   "cell_type": "code",
   "execution_count": 52,
   "metadata": {},
   "outputs": [
    {
     "data": {
      "text/plain": [
       "BaggingClassifier(base_estimator=DecisionTreeClassifier())"
      ]
     },
     "execution_count": 52,
     "metadata": {},
     "output_type": "execute_result"
    }
   ],
   "source": [
    "#Fitting to the training data\n",
    "bagged_tree.fit(X_train, y_train)"
   ]
  },
  {
   "cell_type": "code",
   "execution_count": 53,
   "metadata": {},
   "outputs": [
    {
     "data": {
      "text/plain": [
       "0.9891222805701425"
      ]
     },
     "execution_count": 53,
     "metadata": {},
     "output_type": "execute_result"
    }
   ],
   "source": [
    "#Training accuracy score\n",
    "bagged_tree.score(X_train, y_train)"
   ]
  },
  {
   "cell_type": "code",
   "execution_count": 54,
   "metadata": {},
   "outputs": [
    {
     "data": {
      "text/plain": [
       "0.9460269865067467"
      ]
     },
     "execution_count": 54,
     "metadata": {},
     "output_type": "execute_result"
    }
   ],
   "source": [
    "#Testing accuracy score\n",
    "bagged_tree.score(X_test, y_test)"
   ]
  },
  {
   "cell_type": "markdown",
   "metadata": {},
   "source": [
    "The Bagging Classifier preform really well with high accuracy in both the train and test score. The concerning thing is the training set overfitting or not?"
   ]
  },
  {
   "cell_type": "markdown",
   "metadata": {},
   "source": [
    "### Random Forest"
   ]
  },
  {
   "cell_type": "code",
   "execution_count": 113,
   "metadata": {},
   "outputs": [],
   "source": [
    "#Instantiating RandomForestClassifier\n",
    "forest = RandomForestClassifier(n_estimators = 100, max_depth = None)"
   ]
  },
  {
   "cell_type": "code",
   "execution_count": 114,
   "metadata": {},
   "outputs": [
    {
     "data": {
      "text/plain": [
       "RandomForestClassifier()"
      ]
     },
     "execution_count": 114,
     "metadata": {},
     "output_type": "execute_result"
    }
   ],
   "source": [
    "#Fitting the Forest\n",
    "forest.fit(X_train, y_train)"
   ]
  },
  {
   "cell_type": "code",
   "execution_count": 115,
   "metadata": {},
   "outputs": [
    {
     "data": {
      "text/plain": [
       "1.0"
      ]
     },
     "execution_count": 115,
     "metadata": {},
     "output_type": "execute_result"
    }
   ],
   "source": [
    "#Training accuracy score\n",
    "forest.score(X_train, y_train)"
   ]
  },
  {
   "cell_type": "code",
   "execution_count": 116,
   "metadata": {
    "scrolled": true
   },
   "outputs": [
    {
     "data": {
      "text/plain": [
       "0.9460269865067467"
      ]
     },
     "execution_count": 116,
     "metadata": {},
     "output_type": "execute_result"
    }
   ],
   "source": [
    "#Test accuracy score\n",
    "forest.score(X_test, y_test)"
   ]
  },
  {
   "cell_type": "code",
   "execution_count": 117,
   "metadata": {
    "scrolled": false
   },
   "outputs": [
    {
     "data": {
      "image/png": "[encoded data removed]",
      "text/plain": [
       "<Figure size 576x576 with 1 Axes>"
      ]
     },
     "metadata": {},
     "output_type": "display_data"
    }
   ],
   "source": [
    "plot_important_features(forest)"
   ]
  },
  {
   "cell_type": "code",
   "execution_count": 118,
   "metadata": {},
   "outputs": [
    {
     "data": {
      "image/png": "[encoded data removed]",
      "text/plain": [
       "<Figure size 432x288 with 2 Axes>"
      ]
     },
     "metadata": {},
     "output_type": "display_data"
    },
    {
     "name": "stdout",
     "output_type": "stream",
     "text": [
      "[[560   6]\n",
      " [ 30  71]]\n",
      "Precision Score: 0.922077922077922\n",
      "Recall Score: 0.7029702970297029\n",
      "Accuracy Score: 0.9460269865067467\n",
      "F1 Score: 0.797752808988764\n"
     ]
    }
   ],
   "source": [
    "#Let's see how the model is performing\n",
    "pred = forest.predict(X_test)\n",
    "plot_c_matrix(forest)\n",
    "print(confusion_matrix(y_test, pred))\n",
    "print_metrics(y_test, pred)"
   ]
  },
  {
   "cell_type": "markdown",
   "metadata": {},
   "source": [
    "### Analysis"
   ]
  },
  {
   "cell_type": "markdown",
   "metadata": {},
   "source": [
    "The forest classifier may be over fitting, will need more work potentially work with attributes of the classifier via GridSearch and balancing the churn column"
   ]
  },
  {
   "cell_type": "markdown",
   "metadata": {},
   "source": [
    "## Final Random Forest "
   ]
  },
  {
   "cell_type": "markdown",
   "metadata": {},
   "source": [
    "We'll be improving upon the Random Forest by utilizing SMOTE to deal with churn imbalance and GridSearchCV which is to be use as a final model for the customer churn dataset."
   ]
  },
  {
   "cell_type": "markdown",
   "metadata": {},
   "source": [
    "### GridSearchCV"
   ]
  },
  {
   "cell_type": "code",
   "execution_count": 61,
   "metadata": {},
   "outputs": [],
   "source": [
    "#Importing the necessary libraries for GridSearch\n",
    "from sklearn.model_selection import GridSearchCV, cross_val_score"
   ]
  },
  {
   "cell_type": "markdown",
   "metadata": {},
   "source": [
    "### Decision Tree GridSearch"
   ]
  },
  {
   "cell_type": "markdown",
   "metadata": {},
   "source": [
    "We will use the SMOTE train test split set to take care of the imbalance in the churn column to see if it will improve the model."
   ]
  },
  {
   "cell_type": "code",
   "execution_count": 62,
   "metadata": {},
   "outputs": [
    {
     "data": {
      "text/plain": [
       "DecisionTreeClassifier()"
      ]
     },
     "execution_count": 62,
     "metadata": {},
     "output_type": "execute_result"
    }
   ],
   "source": [
    "#Instantiate and fitting smoted sets\n",
    "dtree_clf = DecisionTreeClassifier()\n",
    "dtree_clf.fit(X_train_smoted, y_train_smoted)"
   ]
  },
  {
   "cell_type": "code",
   "execution_count": 63,
   "metadata": {},
   "outputs": [
    {
     "name": "stdout",
     "output_type": "stream",
     "text": [
      "Mean Cross Validation Score: 89.86%\n"
     ]
    }
   ],
   "source": [
    "#Checking the mean cross validation score\n",
    "dtclf_cv_score = cross_val_score(dtree_clf, X_train_smoted, y_train_smoted, cv=3)\n",
    "mean_dt_cv_score = np.mean(dtclf_cv_score)\n",
    "\n",
    "print(f\"Mean Cross Validation Score: {mean_dt_cv_score :.2%}\")"
   ]
  },
  {
   "cell_type": "code",
   "execution_count": 64,
   "metadata": {},
   "outputs": [],
   "source": [
    "#Create a param for Decision Tree to input into GridSearch\n",
    "dt_param_grid = {'criterion': ['gini', 'entropy'],\n",
    "                'max_depth' : [None, 2, 3, 4, 5, 6, 7, 8],\n",
    "                'min_samples_split': [2, 5, 10],\n",
    "                'min_samples_leaf': [1, 2, 3, 4, 5, 6, 7, 8]}"
   ]
  },
  {
   "cell_type": "code",
   "execution_count": 65,
   "metadata": {},
   "outputs": [
    {
     "name": "stdout",
     "output_type": "stream",
     "text": [
      "Grid Search will have to search through 1152 different permutations.\n"
     ]
    }
   ],
   "source": [
    "num_decision_trees = 3 * 2 * 8 * 3 * 8\n",
    "print(f\"Grid Search will have to search through {num_decision_trees} different permutations.\")"
   ]
  },
  {
   "cell_type": "code",
   "execution_count": 66,
   "metadata": {},
   "outputs": [
    {
     "data": {
      "text/plain": [
       "GridSearchCV(cv=3, estimator=DecisionTreeClassifier(),\n",
       "             param_grid={'criterion': ['gini', 'entropy'],\n",
       "                         'max_depth': [None, 2, 3, 4, 5, 6, 7, 8],\n",
       "                         'min_samples_leaf': [1, 2, 3, 4, 5, 6, 7, 8],\n",
       "                         'min_samples_split': [2, 5, 10]},\n",
       "             return_train_score=True)"
      ]
     },
     "execution_count": 66,
     "metadata": {},
     "output_type": "execute_result"
    }
   ],
   "source": [
    "#Instantiate GridSearchCV\n",
    "dt_grid_search = GridSearchCV(dtree_clf, dt_param_grid, cv = 3, return_train_score = True)\n",
    "\n",
    "#Fitting the data\n",
    "dt_grid_search.fit(X_train_smoted, y_train_smoted)"
   ]
  },
  {
   "cell_type": "code",
   "execution_count": 67,
   "metadata": {
    "scrolled": true
   },
   "outputs": [
    {
     "name": "stdout",
     "output_type": "stream",
     "text": [
      "Mean Training Score: 88.90%\n",
      "Mean Test Score: 88.91%\n",
      "Best Parameter Combination Found During Grid Search:\n"
     ]
    },
    {
     "data": {
      "text/plain": [
       "{'criterion': 'gini',\n",
       " 'max_depth': None,\n",
       " 'min_samples_leaf': 2,\n",
       " 'min_samples_split': 5}"
      ]
     },
     "execution_count": 67,
     "metadata": {},
     "output_type": "execute_result"
    }
   ],
   "source": [
    "#Mean Train Score\n",
    "dt_gsearch_train_score = np.mean(dt_grid_search.cv_results_['mean_train_score'])\n",
    "\n",
    "#Mean Test Score\n",
    "dt_gsearch_test_score = dt_grid_search.score(X_test, y_test)\n",
    "\n",
    "print(f\"Mean Training Score: {dt_gsearch_train_score :.2%}\")\n",
    "print(f\"Mean Test Score: {dt_gsearch_test_score :.2%}\")\n",
    "print(\"Best Parameter Combination Found During Grid Search:\")\n",
    "dt_grid_search.best_params_"
   ]
  },
  {
   "cell_type": "code",
   "execution_count": 121,
   "metadata": {
    "scrolled": true
   },
   "outputs": [
    {
     "data": {
      "text/plain": [
       "DecisionTreeClassifier(min_samples_leaf=2, min_samples_split=5)"
      ]
     },
     "execution_count": 121,
     "metadata": {},
     "output_type": "execute_result"
    }
   ],
   "source": [
    "#Instantiate and fitting smoted sets with GridSearch params\n",
    "gs_dtree_clf = DecisionTreeClassifier(criterion = 'gini', max_depth = None,\n",
    "                                     min_samples_leaf = 2, min_samples_split = 5)\n",
    "\n",
    "gs_dtree_clf.fit(X_train_smoted, y_train_smoted)"
   ]
  },
  {
   "cell_type": "code",
   "execution_count": 122,
   "metadata": {
    "scrolled": true
   },
   "outputs": [
    {
     "data": {
      "text/plain": [
       "array([0.01724903, 0.00213914, 0.07687742, 0.0229256 , 0.14457328,\n",
       "       0.06510894, 0.02523893, 0.06501138, 0.02393144, 0.02054104,\n",
       "       0.02275138, 0.03872907, 0.02912712, 0.01409975, 0.14831941,\n",
       "       0.19787008, 0.02710666, 0.00809069, 0.05030964])"
      ]
     },
     "execution_count": 122,
     "metadata": {},
     "output_type": "execute_result"
    }
   ],
   "source": [
    "#Looking to see how important each feature end up in the decision tree model\n",
    "gs_dtree_clf.feature_importances_"
   ]
  },
  {
   "cell_type": "code",
   "execution_count": 123,
   "metadata": {},
   "outputs": [],
   "source": [
    "#Make a function to quickly graph feature importances\n",
    "def plot_important_features(model):\n",
    "    important_features = pd.Series(data=model.feature_importances_, \n",
    "                                   index=X_train_smoted.columns)\n",
    "    important_features.sort_values(ascending=True,inplace=True)\n",
    "    important_features.plot(kind='barh', figsize=(8,8))"
   ]
  },
  {
   "cell_type": "code",
   "execution_count": 124,
   "metadata": {},
   "outputs": [
    {
     "data": {
      "image/png": "[encoded data removed]",
      "text/plain": [
       "<Figure size 576x576 with 1 Axes>"
      ]
     },
     "metadata": {},
     "output_type": "display_data"
    }
   ],
   "source": [
    "plot_important_features(gs_dtree_clf)"
   ]
  },
  {
   "cell_type": "code",
   "execution_count": 125,
   "metadata": {},
   "outputs": [
    {
     "data": {
      "image/png": "[encoded data removed]",
      "text/plain": [
       "<Figure size 432x288 with 2 Axes>"
      ]
     },
     "metadata": {},
     "output_type": "display_data"
    },
    {
     "name": "stdout",
     "output_type": "stream",
     "text": [
      "Precision Score: 0.608\n",
      "Recall Score: 0.7524752475247525\n",
      "Accuracy Score: 0.889055472263868\n",
      "F1 Score: 0.672566371681416\n"
     ]
    }
   ],
   "source": [
    "#Let's see how the model is performing\n",
    "pred = gs_dtree_clf.predict(X_test)\n",
    "plot_c_matrix(gs_dtree_clf)\n",
    "print_metrics(y_test, pred)"
   ]
  },
  {
   "cell_type": "code",
   "execution_count": 126,
   "metadata": {},
   "outputs": [
    {
     "name": "stdout",
     "output_type": "stream",
     "text": [
      "Testing Accuracy for Decision Tree Classifier: 88.91%\n"
     ]
    }
   ],
   "source": [
    "#Checking the model accuracy\n",
    "print(\"Testing Accuracy for Decision Tree Classifier: {:.4}%\".format(\n",
    "    accuracy_score(y_test, pred) * 100))"
   ]
  },
  {
   "cell_type": "markdown",
   "metadata": {},
   "source": [
    "There seems to be a significant amount of False Positive going on. The Precision score is alright, while the Recall is pretty good. There is high Accuracy overall, however the F1 Score does need some work, Random Forest should help improve the model."
   ]
  },
  {
   "cell_type": "markdown",
   "metadata": {},
   "source": [
    "### Bagged Tree"
   ]
  },
  {
   "cell_type": "code",
   "execution_count": 128,
   "metadata": {},
   "outputs": [],
   "source": [
    "#Instantiating BaggingClassifier\n",
    "gs_bagged_tree = BaggingClassifier(DecisionTreeClassifier(criterion = 'gini',\n",
    "                                                         max_depth = None,\n",
    "                                                         min_samples_leaf = 2,\n",
    "                                                         min_samples_split = 5))"
   ]
  },
  {
   "cell_type": "code",
   "execution_count": 129,
   "metadata": {},
   "outputs": [
    {
     "data": {
      "text/plain": [
       "BaggingClassifier(base_estimator=DecisionTreeClassifier())"
      ]
     },
     "execution_count": 129,
     "metadata": {},
     "output_type": "execute_result"
    }
   ],
   "source": [
    "#Fitting to the train_smoted data\n",
    "bagged_tree.fit(X_train_smoted, y_train_smoted)"
   ]
  },
  {
   "cell_type": "code",
   "execution_count": 130,
   "metadata": {},
   "outputs": [
    {
     "data": {
      "text/plain": [
       "0.9947460595446584"
      ]
     },
     "execution_count": 130,
     "metadata": {},
     "output_type": "execute_result"
    }
   ],
   "source": [
    "#Train_smoted accuracy score\n",
    "bagged_tree.score(X_train_smoted, y_train_smoted)"
   ]
  },
  {
   "cell_type": "code",
   "execution_count": 131,
   "metadata": {},
   "outputs": [
    {
     "data": {
      "text/plain": [
       "0.9340329835082459"
      ]
     },
     "execution_count": 131,
     "metadata": {},
     "output_type": "execute_result"
    }
   ],
   "source": [
    "#Testing accuracy score\n",
    "bagged_tree.score(X_test, y_test)"
   ]
  },
  {
   "cell_type": "markdown",
   "metadata": {},
   "source": [
    "The Bagged Tree's scores looks very similar to the baseline bagged."
   ]
  },
  {
   "cell_type": "markdown",
   "metadata": {},
   "source": [
    "### Random Forest"
   ]
  },
  {
   "cell_type": "code",
   "execution_count": 78,
   "metadata": {},
   "outputs": [
    {
     "data": {
      "text/plain": [
       "RandomForestClassifier()"
      ]
     },
     "execution_count": 78,
     "metadata": {},
     "output_type": "execute_result"
    }
   ],
   "source": [
    "#Instantiating RandomForestClassifier\n",
    "rforest = RandomForestClassifier()\n",
    "\n",
    "#Fitting the Forest\n",
    "rforest.fit(X_train_smoted, y_train_smoted)"
   ]
  },
  {
   "cell_type": "code",
   "execution_count": 79,
   "metadata": {},
   "outputs": [
    {
     "name": "stdout",
     "output_type": "stream",
     "text": [
      "Mean Cross Validation Score for Random Forest Classifier: 94.97%\n"
     ]
    }
   ],
   "source": [
    "#Random Forest cross validation score\n",
    "rforest_cv_score = np.mean(cross_val_score(rforest, X_train_smoted, y_train_smoted, cv=3))\n",
    "\n",
    "print(f\"Mean Cross Validation Score for Random Forest Classifier: {rforest_cv_score :.2%}\")"
   ]
  },
  {
   "cell_type": "code",
   "execution_count": 80,
   "metadata": {},
   "outputs": [],
   "source": [
    "#Creating potential parameters for GridSearch\n",
    "rforest_param_grid = {'n_estimators': [10, 25, 50, 100],\n",
    "                    'criterion': ['gini', 'entropy'],\n",
    "                    'max_depth': [None, 2, 4, 6, 8, 10],\n",
    "                    'min_samples_split': [5, 8, 10],\n",
    "                    'min_samples_leaf': [2, 3, 4, 5, 6]}"
   ]
  },
  {
   "cell_type": "code",
   "execution_count": 81,
   "metadata": {},
   "outputs": [
    {
     "name": "stdout",
     "output_type": "stream",
     "text": [
      "Grid Search will have to search through 2160 different permutations.\n"
     ]
    }
   ],
   "source": [
    "num_forest_trees = 3 * 4 * 2 * 6 * 3 * 5\n",
    "print(f\"Grid Search will have to search through {num_forest_trees} different permutations.\")"
   ]
  },
  {
   "cell_type": "code",
   "execution_count": 82,
   "metadata": {
    "scrolled": true
   },
   "outputs": [
    {
     "name": "stdout",
     "output_type": "stream",
     "text": [
      "Training Accuracy: 94.55%\n",
      "\n",
      "Optimal Parameters: {'criterion': 'entropy', 'max_depth': None, 'min_samples_leaf': 2, 'min_samples_split': 5, 'n_estimators': 100}\n"
     ]
    }
   ],
   "source": [
    "rforest_grid_search = GridSearchCV(rforest, rforest_param_grid, cv=3)\n",
    "rforest_grid_search.fit(X_train_smoted, y_train_smoted)\n",
    "\n",
    "print(f\"Training Accuracy: {rforest_grid_search.best_score_ :.2%}\")\n",
    "print(\"\")\n",
    "print(f\"Optimal Parameters: {rforest_grid_search.best_params_}\")"
   ]
  },
  {
   "cell_type": "code",
   "execution_count": 83,
   "metadata": {},
   "outputs": [
    {
     "name": "stdout",
     "output_type": "stream",
     "text": [
      "Decision tree grid search:  0.889055472263868\n",
      "Random forest grid search:  0.9370314842578711\n"
     ]
    }
   ],
   "source": [
    "#Comparing the Decision and Random Forest score to see if there is an improvement\n",
    "dt_score = dt_grid_search.score(X_test, y_test)\n",
    "rforest_score = rforest_grid_search.score(X_test, y_test)\n",
    "\n",
    "print('Decision tree grid search: ', dt_score)\n",
    "print('Random forest grid search: ', rforest_score)"
   ]
  },
  {
   "cell_type": "code",
   "execution_count": 84,
   "metadata": {},
   "outputs": [
    {
     "data": {
      "text/plain": [
       "RandomForestClassifier(criterion='entropy', min_samples_leaf=2,\n",
       "                       min_samples_split=5)"
      ]
     },
     "execution_count": 84,
     "metadata": {},
     "output_type": "execute_result"
    }
   ],
   "source": [
    "#Instantiating RandomForestClassifier with GridSearch params\n",
    "gs_rforest = RandomForestClassifier(criterion = 'entropy', max_depth = None, \n",
    "                                min_samples_leaf = 2, min_samples_split = 5,\n",
    "                                n_estimators = 100)\n",
    "\n",
    "#Fitting the Forest\n",
    "gs_rforest.fit(X_train_smoted, y_train_smoted)"
   ]
  },
  {
   "cell_type": "code",
   "execution_count": 85,
   "metadata": {},
   "outputs": [
    {
     "data": {
      "text/plain": [
       "0.9978108581436077"
      ]
     },
     "execution_count": 85,
     "metadata": {},
     "output_type": "execute_result"
    }
   ],
   "source": [
    "#Training accuracy score\n",
    "gs_rforest.score(X_train_smoted, y_train_smoted)"
   ]
  },
  {
   "cell_type": "code",
   "execution_count": 86,
   "metadata": {},
   "outputs": [
    {
     "data": {
      "text/plain": [
       "0.9460269865067467"
      ]
     },
     "execution_count": 86,
     "metadata": {},
     "output_type": "execute_result"
    }
   ],
   "source": [
    "#Test accuracy score\n",
    "gs_rforest.score(X_test, y_test)"
   ]
  },
  {
   "cell_type": "code",
   "execution_count": 87,
   "metadata": {
    "scrolled": false
   },
   "outputs": [
    {
     "data": {
      "image/png": "[encoded data removed]",
      "text/plain": [
       "<Figure size 576x576 with 1 Axes>"
      ]
     },
     "metadata": {},
     "output_type": "display_data"
    }
   ],
   "source": [
    "plot_important_features(gs_rforest)"
   ]
  },
  {
   "cell_type": "code",
   "execution_count": 109,
   "metadata": {},
   "outputs": [
    {
     "data": {
      "image/png": "[encoded data removed]",
      "text/plain": [
       "<Figure size 432x288 with 2 Axes>"
      ]
     },
     "metadata": {},
     "output_type": "display_data"
    },
    {
     "name": "stdout",
     "output_type": "stream",
     "text": [
      "Precision Score: 0.8282828282828283\n",
      "Recall Score: 0.8118811881188119\n",
      "Accuracy Score: 0.9460269865067467\n",
      "F1 Score: 0.8200000000000001\n"
     ]
    }
   ],
   "source": [
    "#Let's see how the model is performing\n",
    "pred = gs_rforest.predict(X_test)\n",
    "plot_c_matrix(gs_rforest)\n",
    "print_metrics(y_test, pred)"
   ]
  },
  {
   "cell_type": "code",
   "execution_count": 89,
   "metadata": {},
   "outputs": [
    {
     "name": "stdout",
     "output_type": "stream",
     "text": [
      "Testing Accuracy for Random Forest Classifier: 94.6%\n"
     ]
    }
   ],
   "source": [
    "#Checking the model accuracy\n",
    "print(\"Testing Accuracy for Random Forest Classifier: {:.4}%\".format(\n",
    "    accuracy_score(y_test, pred) * 100))"
   ]
  },
  {
   "cell_type": "markdown",
   "metadata": {},
   "source": [
    "### Analysis"
   ]
  },
  {
   "cell_type": "markdown",
   "metadata": {},
   "source": [
    "There is a significant improvement in the Random Forest Classifier through the means of GridSearch and SMOTE dataset. The confusing matrix looks healthy overall with the True Negative and True Positive as well as minimal False Negative and False Positive. The GridSearch Forest metric score are an improvement compared to the baseline metric score. The Recall score went up significantly which is nice for the class to be accounted for.\n",
    "\n",
    "Baseline Forest Metrics: \n",
    "Precision: 0.92, Recall: 0.70, Accuracy: 0.95, F1: 0.80\n",
    "\n",
    "Final Forest Metrics: \n",
    "Precision: 0.83, Recall: 0.81, Accuracy: 0.95, F1: 0.82"
   ]
  },
  {
   "cell_type": "markdown",
   "metadata": {},
   "source": [
    "## Conclusion"
   ]
  },
  {
   "cell_type": "markdown",
   "metadata": {},
   "source": [
    "Looking at the Random Forest Model, I would recommend\n",
    "in increasing the quality of customer service to decrease the likelihood of being called back multiple time. Another recommendation is after hitting a certain amount of minutes like 240 minutes (capping) for an example. Any additional minutes should be charge less to keep the customers since it show that a lot of them are leaving due to the increasing charge cost due to the increase in minutes/calls by the customers. Last recommendation is handing out some benefits or discounts overtime for those who does not have an international plan. This can be done by the account length overtime. \n",
    "\n",
    "SyriaTel communication company will be able to utilize this information to make sound decision that best serve their interests in customer retention. "
   ]
  }
 ],
 "metadata": {
  "kernelspec": {
   "display_name": "Python 3",
   "language": "python",
   "name": "python3"
  },
  "language_info": {
   "codemirror_mode": {
    "name": "ipython",
    "version": 3
   },
   "file_extension": ".py",
   "mimetype": "text/x-python",
   "name": "python",
   "nbconvert_exporter": "python",
   "pygments_lexer": "ipython3",
   "version": "3.8.5"
  },
  "toc": {
   "base_numbering": 1,
   "nav_menu": {},
   "number_sections": true,
   "sideBar": true,
   "skip_h1_title": false,
   "title_cell": "Table of Contents",
   "title_sidebar": "Contents",
   "toc_cell": false,
   "toc_position": {
    "height": "calc(100% - 180px)",
    "left": "10px",
    "top": "150px",
    "width": "252px"
   },
   "toc_section_display": true,
   "toc_window_display": true
  }
 },
 "nbformat": 4,
 "nbformat_minor": 4
}
